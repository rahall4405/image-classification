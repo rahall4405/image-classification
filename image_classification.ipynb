{
 "cells": [
  {
   "cell_type": "markdown",
   "metadata": {
    "collapsed": true
   },
   "source": [
    "# Image Classification\n",
    "In this project, you'll classify images from the [CIFAR-10 dataset](https://www.cs.toronto.edu/~kriz/cifar.html).  The dataset consists of airplanes, dogs, cats, and other objects. You'll preprocess the images, then train a convolutional neural network on all the samples. The images need to be normalized and the labels need to be one-hot encoded.  You'll get to apply what you learned and build a convolutional, max pooling, dropout, and fully connected layers.  At the end, you'll get to see your neural network's predictions on the sample images.\n",
    "## Get the Data\n",
    "Run the following cell to download the [CIFAR-10 dataset for python](https://www.cs.toronto.edu/~kriz/cifar-10-python.tar.gz)."
   ]
  },
  {
   "cell_type": "code",
   "execution_count": 2,
   "metadata": {
    "collapsed": false
   },
   "outputs": [
    {
     "name": "stdout",
     "output_type": "stream",
     "text": [
      "All files found!\n"
     ]
    }
   ],
   "source": [
    "\"\"\"\n",
    "DON'T MODIFY ANYTHING IN THIS CELL THAT IS BELOW THIS LINE\n",
    "\"\"\"\n",
    "from urllib.request import urlretrieve\n",
    "from os.path import isfile, isdir\n",
    "from tqdm import tqdm\n",
    "import problem_unittests as tests\n",
    "import tarfile\n",
    "\n",
    "cifar10_dataset_folder_path = 'cifar-10-batches-py'\n",
    "\n",
    "class DLProgress(tqdm):\n",
    "    last_block = 0\n",
    "\n",
    "    def hook(self, block_num=1, block_size=1, total_size=None):\n",
    "        self.total = total_size\n",
    "        self.update((block_num - self.last_block) * block_size)\n",
    "        self.last_block = block_num\n",
    "\n",
    "if not isfile('cifar-10-python.tar.gz'):\n",
    "    with DLProgress(unit='B', unit_scale=True, miniters=1, desc='CIFAR-10 Dataset') as pbar:\n",
    "        urlretrieve(\n",
    "            'https://www.cs.toronto.edu/~kriz/cifar-10-python.tar.gz',\n",
    "            'cifar-10-python.tar.gz',\n",
    "            pbar.hook)\n",
    "\n",
    "if not isdir(cifar10_dataset_folder_path):\n",
    "    with tarfile.open('cifar-10-python.tar.gz') as tar:\n",
    "        tar.extractall()\n",
    "        tar.close()\n",
    "\n",
    "\n",
    "tests.test_folder_path(cifar10_dataset_folder_path)"
   ]
  },
  {
   "cell_type": "markdown",
   "metadata": {},
   "source": [
    "## Explore the Data\n",
    "The dataset is broken into batches to prevent your machine from running out of memory.  The CIFAR-10 dataset consists of 5 batches, named `data_batch_1`, `data_batch_2`, etc.. Each batch contains the labels and images that are one of the following:\n",
    "* airplane\n",
    "* automobile\n",
    "* bird\n",
    "* cat\n",
    "* deer\n",
    "* dog\n",
    "* frog\n",
    "* horse\n",
    "* ship\n",
    "* truck\n",
    "\n",
    "Understanding a dataset is part of making predictions on the data.  Play around with the code cell below by changing the `batch_id` and `sample_id`. The `batch_id` is the id for a batch (1-5). The `sample_id` is the id for a image and label pair in the batch.\n",
    "\n",
    "Ask yourself \"What are all possible labels?\", \"What is the range of values for the image data?\", \"Are the labels in order or random?\".  Answers to questions like these will help you preprocess the data and end up with better predictions."
   ]
  },
  {
   "cell_type": "code",
   "execution_count": 3,
   "metadata": {
    "collapsed": false
   },
   "outputs": [
    {
     "name": "stdout",
     "output_type": "stream",
     "text": [
      "\n",
      "Stats of batch 1:\n",
      "Samples: 10000\n",
      "Label Counts: {0: 1005, 1: 974, 2: 1032, 3: 1016, 4: 999, 5: 937, 6: 1030, 7: 1001, 8: 1025, 9: 981}\n",
      "First 20 Labels: [6, 9, 9, 4, 1, 1, 2, 7, 8, 3, 4, 7, 7, 2, 9, 9, 9, 3, 2, 6]\n",
      "\n",
      "Example of Image 256:\n",
      "Image - Min Value: 1 Max Value: 227\n",
      "Image - Shape: (32, 32, 3)\n",
      "Label - Label Id: 7 Name: horse\n"
     ]
    },
    {
     "data": {
      "image/png": "[encoded data removed]",
      "text/plain": [
       "<matplotlib.figure.Figure at 0x10c1c8240>"
      ]
     },
     "metadata": {
      "image/png": {
       "height": 250,
       "width": 253
      }
     },
     "output_type": "display_data"
    }
   ],
   "source": [
    "%matplotlib inline\n",
    "%config InlineBackend.figure_format = 'retina'\n",
    "\n",
    "import helper\n",
    "import numpy as np\n",
    "\n",
    "# Explore the dataset\n",
    "batch_id = 1\n",
    "sample_id = 256\n",
    "helper.display_stats(cifar10_dataset_folder_path, batch_id, sample_id)"
   ]
  },
  {
   "cell_type": "markdown",
   "metadata": {},
   "source": [
    "## Implement Preprocess Functions\n",
    "### Normalize\n",
    "In the cell below, implement the `normalize` function to take in image data, `x`, and return it as a normalized Numpy array. The values should be in the range of 0 to 1, inclusive.  The return object should be the same shape as `x`."
   ]
  },
  {
   "cell_type": "code",
   "execution_count": 4,
   "metadata": {
    "collapsed": false
   },
   "outputs": [
    {
     "name": "stdout",
     "output_type": "stream",
     "text": [
      "Tests Passed\n"
     ]
    }
   ],
   "source": [
    "def normalize(x):\n",
    "    \"\"\"\n",
    "    Normalize a list of sample image data in the range of 0 to 1\n",
    "    : x: List of image data.  The image shape is (32, 32, 3)\n",
    "    : return: Numpy array of normalize data\n",
    "    \"\"\"\n",
    "    # TODO: Implement Function\n",
    "    return np.array(x/255.0)\n",
    "\n",
    "\n",
    "\"\"\"\n",
    "DON'T MODIFY ANYTHING IN THIS CELL THAT IS BELOW THIS LINE\n",
    "\"\"\"\n",
    "tests.test_normalize(normalize)"
   ]
  },
  {
   "cell_type": "markdown",
   "metadata": {},
   "source": [
    "### One-hot encode\n",
    "Just like the previous code cell, you'll be implementing a function for preprocessing.  This time, you'll implement the `one_hot_encode` function. The input, `x`, are a list of labels.  Implement the function to return the list of labels as One-Hot encoded Numpy array.  The possible values for labels are 0 to 9. The one-hot encoding function should return the same encoding for each value between each call to `one_hot_encode`.  Make sure to save the map of encodings outside the function.\n",
    "\n",
    "**Hint:**\n",
    "\n",
    "Look into LabelBinarizer in the preprocessing module of sklearn."
   ]
  },
  {
   "cell_type": "code",
   "execution_count": 5,
   "metadata": {
    "collapsed": false
   },
   "outputs": [
    {
     "name": "stdout",
     "output_type": "stream",
     "text": [
      "Tests Passed\n"
     ]
    }
   ],
   "source": [
    "from sklearn import preprocessing\n",
    "\n",
    "def one_hot_encode(x):\n",
    "    \"\"\"\n",
    "    One hot encode a list of sample labels. Return a one-hot encoded vector for each label.\n",
    "    : x: List of sample Labels\n",
    "    : return: Numpy array of one-hot encoded labels\n",
    "    \"\"\"\n",
    "    # TODO: Implement Function\n",
    "    lb = preprocessing.LabelBinarizer()\n",
    "    lb.fit(range(10))\n",
    "    \n",
    "    return lb.transform(x)\n",
    "\n",
    "\n",
    "\"\"\"\n",
    "DON'T MODIFY ANYTHING IN THIS CELL THAT IS BELOW THIS LINE\n",
    "\"\"\"\n",
    "tests.test_one_hot_encode(one_hot_encode)"
   ]
  },
  {
   "cell_type": "markdown",
   "metadata": {},
   "source": [
    "### Randomize Data\n",
    "As you saw from exploring the data above, the order of the samples are randomized.  It doesn't hurt to randomize it again, but you don't need to for this dataset."
   ]
  },
  {
   "cell_type": "markdown",
   "metadata": {},
   "source": [
    "## Preprocess all the data and save it\n",
    "Running the code cell below will preprocess all the CIFAR-10 data and save it to file. The code below also uses 10% of the training data for validation."
   ]
  },
  {
   "cell_type": "code",
   "execution_count": 6,
   "metadata": {
    "collapsed": false
   },
   "outputs": [],
   "source": [
    "\"\"\"\n",
    "DON'T MODIFY ANYTHING IN THIS CELL\n",
    "\"\"\"\n",
    "# Preprocess Training, Validation, and Testing Data\n",
    "helper.preprocess_and_save_data(cifar10_dataset_folder_path, normalize, one_hot_encode)"
   ]
  },
  {
   "cell_type": "markdown",
   "metadata": {},
   "source": [
    "# Check Point\n",
    "This is your first checkpoint.  If you ever decide to come back to this notebook or have to restart the notebook, you can start from here.  The preprocessed data has been saved to disk."
   ]
  },
  {
   "cell_type": "code",
   "execution_count": 7,
   "metadata": {
    "collapsed": true
   },
   "outputs": [],
   "source": [
    "\"\"\"\n",
    "DON'T MODIFY ANYTHING IN THIS CELL\n",
    "\"\"\"\n",
    "import pickle\n",
    "import problem_unittests as tests\n",
    "import helper\n",
    "\n",
    "# Load the Preprocessed Validation data\n",
    "valid_features, valid_labels = pickle.load(open('preprocess_validation.p', mode='rb'))"
   ]
  },
  {
   "cell_type": "markdown",
   "metadata": {},
   "source": [
    "## Build the network\n",
    "For the neural network, you'll build each layer into a function.  Most of the code you've seen has been outside of functions. To test your code more thoroughly, we require that you put each layer in a function.  This allows us to give you better feedback and test for simple mistakes using our unittests before you submit your project.\n",
    "\n",
    ">**Note:** If you're finding it hard to dedicate enough time for this course each week, we've provided a small shortcut to this part of the project. In the next couple of problems, you'll have the option to use classes from the [TensorFlow Layers](https://www.tensorflow.org/api_docs/python/tf/layers) or [TensorFlow Layers (contrib)](https://www.tensorflow.org/api_guides/python/contrib.layers) packages to build each layer, except the layers you build in the \"Convolutional and Max Pooling Layer\" section.  TF Layers is similar to Keras's and TFLearn's abstraction to layers, so it's easy to pickup.\n",
    "\n",
    ">However, if you would like to get the most out of this course, try to solve all the problems _without_ using anything from the TF Layers packages. You **can** still use classes from other packages that happen to have the same name as ones you find in TF Layers! For example, instead of using the TF Layers version of the `conv2d` class, [tf.layers.conv2d](https://www.tensorflow.org/api_docs/python/tf/layers/conv2d), you would want to use the TF Neural Network version of `conv2d`, [tf.nn.conv2d](https://www.tensorflow.org/api_docs/python/tf/nn/conv2d). \n",
    "\n",
    "Let's begin!\n",
    "\n",
    "### Input\n",
    "The neural network needs to read the image data, one-hot encoded labels, and dropout keep probability. Implement the following functions\n",
    "* Implement `neural_net_image_input`\n",
    " * Return a [TF Placeholder](https://www.tensorflow.org/api_docs/python/tf/placeholder)\n",
    " * Set the shape using `image_shape` with batch size set to `None`.\n",
    " * Name the TensorFlow placeholder \"x\" using the TensorFlow `name` parameter in the [TF Placeholder](https://www.tensorflow.org/api_docs/python/tf/placeholder).\n",
    "* Implement `neural_net_label_input`\n",
    " * Return a [TF Placeholder](https://www.tensorflow.org/api_docs/python/tf/placeholder)\n",
    " * Set the shape using `n_classes` with batch size set to `None`.\n",
    " * Name the TensorFlow placeholder \"y\" using the TensorFlow `name` parameter in the [TF Placeholder](https://www.tensorflow.org/api_docs/python/tf/placeholder).\n",
    "* Implement `neural_net_keep_prob_input`\n",
    " * Return a [TF Placeholder](https://www.tensorflow.org/api_docs/python/tf/placeholder) for dropout keep probability.\n",
    " * Name the TensorFlow placeholder \"keep_prob\" using the TensorFlow `name` parameter in the [TF Placeholder](https://www.tensorflow.org/api_docs/python/tf/placeholder).\n",
    "\n",
    "These names will be used at the end of the project to load your saved model.\n",
    "\n",
    "Note: `None` for shapes in TensorFlow allow for a dynamic size."
   ]
  },
  {
   "cell_type": "code",
   "execution_count": 8,
   "metadata": {
    "collapsed": false
   },
   "outputs": [
    {
     "name": "stdout",
     "output_type": "stream",
     "text": [
      "Image Input Tests Passed.\n",
      "Label Input Tests Passed.\n",
      "Keep Prob Tests Passed.\n"
     ]
    }
   ],
   "source": [
    "import tensorflow as tf\n",
    "\n",
    "def neural_net_image_input(image_shape):\n",
    "    \"\"\"\n",
    "    Return a Tensor for a batch of image input\n",
    "    : image_shape: Shape of the images\n",
    "    : return: Tensor for image input.\n",
    "    \"\"\"\n",
    "    # TODO: Implement Function\n",
    "    x = tf.placeholder(tf.float32, shape=(None,image_shape[0],image_shape[1],image_shape[2]), name ='x')\n",
    "    return x\n",
    "\n",
    "\n",
    "def neural_net_label_input(n_classes):\n",
    "    \"\"\"\n",
    "    Return a Tensor for a batch of label input\n",
    "    : n_classes: Number of classes\n",
    "    : return: Tensor for label input.\n",
    "    \"\"\"\n",
    "    # TODO: Implement Function\n",
    "    y = tf.placeholder(tf.float32,shape=(None, n_classes), name ='y')\n",
    "    return y\n",
    "\n",
    "\n",
    "def neural_net_keep_prob_input():\n",
    "    \"\"\"\n",
    "    Return a Tensor for keep probability\n",
    "    : return: Tensor for keep probability.\n",
    "    \"\"\"\n",
    "    # TODO: Implement Function\n",
    "    keep_prob = tf.placeholder(tf.float32,name='keep_prob')\n",
    "    return keep_prob\n",
    "\n",
    "\n",
    "\"\"\"\n",
    "DON'T MODIFY ANYTHING IN THIS CELL THAT IS BELOW THIS LINE\n",
    "\"\"\"\n",
    "tf.reset_default_graph()\n",
    "tests.test_nn_image_inputs(neural_net_image_input)\n",
    "tests.test_nn_label_inputs(neural_net_label_input)\n",
    "tests.test_nn_keep_prob_inputs(neural_net_keep_prob_input)"
   ]
  },
  {
   "cell_type": "markdown",
   "metadata": {},
   "source": [
    "### Convolution and Max Pooling Layer\n",
    "Convolution layers have a lot of success with images. For this code cell, you should implement the function `conv2d_maxpool` to apply convolution then max pooling:\n",
    "* Create the weight and bias using `conv_ksize`, `conv_num_outputs` and the shape of `x_tensor`.\n",
    "* Apply a convolution to `x_tensor` using weight and `conv_strides`.\n",
    " * We recommend you use same padding, but you're welcome to use any padding.\n",
    "* Add bias\n",
    "* Add a nonlinear activation to the convolution.\n",
    "* Apply Max Pooling using `pool_ksize` and `pool_strides`.\n",
    " * We recommend you use same padding, but you're welcome to use any padding.\n",
    "\n",
    "**Note:** You **can't** use [TensorFlow Layers](https://www.tensorflow.org/api_docs/python/tf/layers) or [TensorFlow Layers (contrib)](https://www.tensorflow.org/api_guides/python/contrib.layers) for **this** layer, but you can still use TensorFlow's [Neural Network](https://www.tensorflow.org/api_docs/python/tf/nn) package. You may still use the shortcut option for all the **other** layers.\n",
    "\n",
    "** Hint: **\n",
    "\n",
    "When unpacking values as an argument in Python, look into the [unpacking](https://docs.python.org/3/tutorial/controlflow.html#unpacking-argument-lists) operator. "
   ]
  },
  {
   "cell_type": "code",
   "execution_count": 9,
   "metadata": {
    "collapsed": false
   },
   "outputs": [
    {
     "name": "stdout",
     "output_type": "stream",
     "text": [
      "Tests Passed\n"
     ]
    }
   ],
   "source": [
    "def conv2d_maxpool(x_tensor, conv_num_outputs, conv_ksize, conv_strides, pool_ksize, pool_strides):\n",
    "    \"\"\"\n",
    "    Apply convolution then max pooling to x_tensor\n",
    "    :param x_tensor: TensorFlow Tensor\n",
    "    :param conv_num_outputs: Number of outputs for the convolutional layer\n",
    "    :param conv_ksize: kernal size 2-D Tuple for the convolutional layer\n",
    "    :param conv_strides: Stride 2-D Tuple for convolution\n",
    "    :param pool_ksize: kernal size 2-D Tuple for pool\n",
    "    :param pool_strides: Stride 2-D Tuple for pool\n",
    "    : return: A tensor that represents convolution and max pooling of x_tensor\n",
    "    \"\"\"\n",
    "    # TODO: Implement Function\n",
    "    bias = tf.Variable(tf.zeros(conv_num_outputs))\n",
    "    strides_conv_var = [1,conv_strides[0],conv_strides[1],1]\n",
    "    weight = tf.Variable(tf.truncated_normal([conv_ksize[0],conv_ksize[1],x_tensor.get_shape().as_list()[3],\n",
    "                                             conv_num_outputs],stddev=0.1))\n",
    "    convolution_layer = tf.nn.conv2d(x_tensor, weight,strides=strides_conv_var, padding = 'SAME')\n",
    "    convolution_layer = tf.nn.bias_add(convolution_layer, bias)\n",
    "    convolution_layer = tf.nn.relu(convolution_layer)\n",
    "    pool_ksize_var = [1,pool_ksize[0],pool_ksize[1],1]\n",
    "    pool_strides_var = [1,pool_strides[0],pool_strides[1],1]\n",
    "    convolution_layer = tf.nn.max_pool(convolution_layer,ksize=pool_ksize_var,strides=pool_strides_var,padding='SAME')\n",
    "    \n",
    "    \n",
    "    return convolution_layer\n",
    "\n",
    "\n",
    "\"\"\"\n",
    "DON'T MODIFY ANYTHING IN THIS CELL THAT IS BELOW THIS LINE\n",
    "\"\"\"\n",
    "tests.test_con_pool(conv2d_maxpool)"
   ]
  },
  {
   "cell_type": "markdown",
   "metadata": {},
   "source": [
    "### Flatten Layer\n",
    "Implement the `flatten` function to change the dimension of `x_tensor` from a 4-D tensor to a 2-D tensor.  The output should be the shape (*Batch Size*, *Flattened Image Size*). Shortcut option: you can use classes from the [TensorFlow Layers](https://www.tensorflow.org/api_docs/python/tf/layers) or [TensorFlow Layers (contrib)](https://www.tensorflow.org/api_guides/python/contrib.layers) packages for this layer. For more of a challenge, only use other TensorFlow packages."
   ]
  },
  {
   "cell_type": "code",
   "execution_count": 10,
   "metadata": {
    "collapsed": false
   },
   "outputs": [
    {
     "name": "stdout",
     "output_type": "stream",
     "text": [
      "Tests Passed\n"
     ]
    }
   ],
   "source": [
    "def flatten(x_tensor):\n",
    "    \"\"\"\n",
    "    Flatten x_tensor to (Batch Size, Flattened Image Size)\n",
    "    : x_tensor: A tensor of size (Batch Size, ...), where ... are the image dimensions.\n",
    "    : return: A tensor of size (Batch Size, Flattened Image Size).\n",
    "    \"\"\"\n",
    "    # TODO: Implement Function\n",
    "    return tf.contrib.layers.flatten(x_tensor)\n",
    "\n",
    "\n",
    "\"\"\"\n",
    "DON'T MODIFY ANYTHING IN THIS CELL THAT IS BELOW THIS LINE\n",
    "\"\"\"\n",
    "tests.test_flatten(flatten)"
   ]
  },
  {
   "cell_type": "markdown",
   "metadata": {},
   "source": [
    "### Fully-Connected Layer\n",
    "Implement the `fully_conn` function to apply a fully connected layer to `x_tensor` with the shape (*Batch Size*, *num_outputs*). Shortcut option: you can use classes from the [TensorFlow Layers](https://www.tensorflow.org/api_docs/python/tf/layers) or [TensorFlow Layers (contrib)](https://www.tensorflow.org/api_guides/python/contrib.layers) packages for this layer. For more of a challenge, only use other TensorFlow packages."
   ]
  },
  {
   "cell_type": "code",
   "execution_count": 11,
   "metadata": {
    "collapsed": false
   },
   "outputs": [
    {
     "name": "stdout",
     "output_type": "stream",
     "text": [
      "Tests Passed\n"
     ]
    }
   ],
   "source": [
    "def fully_conn(x_tensor, num_outputs):\n",
    "    \"\"\"\n",
    "    Apply a fully connected layer to x_tensor using weight and bias\n",
    "    : x_tensor: A 2-D tensor where the first dimension is batch size.\n",
    "    : num_outputs: The number of output that the new tensor should be.\n",
    "    : return: A 2-D tensor where the second dimension is num_outputs.\n",
    "    \"\"\"\n",
    "    # TODO: Implement Function\n",
    "    bias = tf.Variable(tf.zeros(num_outputs))\n",
    "    weight = tf.Variable(tf.truncated_normal([x_tensor.get_shape().as_list()[-1], num_outputs], stddev = 0.01))\n",
    "    fully_connected = tf.add(tf.matmul(x_tensor, weight), bias)\n",
    "    fully_connected = tf.nn.relu(fully_connected)\n",
    "    return fully_connected\n",
    "\n",
    "\n",
    "\"\"\"\n",
    "DON'T MODIFY ANYTHING IN THIS CELL THAT IS BELOW THIS LINE\n",
    "\"\"\"\n",
    "tests.test_fully_conn(fully_conn)"
   ]
  },
  {
   "cell_type": "markdown",
   "metadata": {},
   "source": [
    "### Output Layer\n",
    "Implement the `output` function to apply a fully connected layer to `x_tensor` with the shape (*Batch Size*, *num_outputs*). Shortcut option: you can use classes from the [TensorFlow Layers](https://www.tensorflow.org/api_docs/python/tf/layers) or [TensorFlow Layers (contrib)](https://www.tensorflow.org/api_guides/python/contrib.layers) packages for this layer. For more of a challenge, only use other TensorFlow packages.\n",
    "\n",
    "**Note:** Activation, softmax, or cross entropy should **not** be applied to this."
   ]
  },
  {
   "cell_type": "code",
   "execution_count": 12,
   "metadata": {
    "collapsed": false
   },
   "outputs": [
    {
     "name": "stdout",
     "output_type": "stream",
     "text": [
      "Tests Passed\n"
     ]
    }
   ],
   "source": [
    "def output(x_tensor, num_outputs):\n",
    "    \"\"\"\n",
    "    Apply a output layer to x_tensor using weight and bias\n",
    "    : x_tensor: A 2-D tensor where the first dimension is batch size.\n",
    "    : num_outputs: The number of output that the new tensor should be.\n",
    "    : return: A 2-D tensor where the second dimension is num_outputs.\n",
    "    \"\"\"\n",
    "    # TODO: Implement Function\n",
    "    bias = tf.Variable(tf.zeros(num_outputs))\n",
    "    weight = tf.Variable(tf.truncated_normal([x_tensor.get_shape().as_list()[-1], num_outputs], stddev = 0.01))\n",
    "    output = tf.add(tf.matmul(x_tensor, weight),bias)\n",
    "    \n",
    "    return output\n",
    "\n",
    "\n",
    "\"\"\"\n",
    "DON'T MODIFY ANYTHING IN THIS CELL THAT IS BELOW THIS LINE\n",
    "\"\"\"\n",
    "tests.test_output(output)"
   ]
  },
  {
   "cell_type": "code",
   "execution_count": null,
   "metadata": {
    "collapsed": true
   },
   "outputs": [],
   "source": []
  },
  {
   "cell_type": "markdown",
   "metadata": {},
   "source": [
    "### Create Convolutional Model\n",
    "Implement the function `conv_net` to create a convolutional neural network model. The function takes in a batch of images, `x`, and outputs logits.  Use the layers you created above to create this model:\n",
    "\n",
    "* Apply 1, 2, or 3 Convolution and Max Pool layers\n",
    "* Apply a Flatten Layer\n",
    "* Apply 1, 2, or 3 Fully Connected Layers\n",
    "* Apply an Output Layer\n",
    "* Return the output\n",
    "* Apply [TensorFlow's Dropout](https://www.tensorflow.org/api_docs/python/tf/nn/dropout) to one or more layers in the model using `keep_prob`. "
   ]
  },
  {
   "cell_type": "code",
   "execution_count": 13,
   "metadata": {
    "collapsed": false
   },
   "outputs": [
    {
     "name": "stdout",
     "output_type": "stream",
     "text": [
      "Neural Network Built!\n"
     ]
    }
   ],
   "source": [
    "def conv_net(x, keep_prob):\n",
    "    \"\"\"\n",
    "    Create a convolutional neural network model\n",
    "    : x: Placeholder tensor that holds image data.\n",
    "    : keep_prob: Placeholder tensor that hold dropout keep probability.\n",
    "    : return: Tensor that represents logits\n",
    "    \"\"\"\n",
    "    # TODO: Apply 1, 2, or 3 Convolution and Max Pool layers\n",
    "    #    Play around with different number of outputs, kernel size and stride\n",
    "    # Function Definition from Above:\n",
    "    #    conv2d_maxpool(x_tensor, conv_num_outputs, conv_ksize, conv_strides, pool_ksize, pool_strides)\n",
    "    \n",
    "    conv_num_outputs =16\n",
    "    conv_ksize = (2,2)\n",
    "    conv_strides = (1,1)\n",
    "    pool_ksize = (2,2)\n",
    "    pool_strides = (1,1)\n",
    "    logits = conv2d_maxpool(x, 32, conv_ksize, conv_strides, pool_ksize, pool_strides)\n",
    "    logits = conv2d_maxpool(logits, 64, conv_ksize, conv_strides, pool_ksize, pool_strides)\n",
    "    logits = tf.layers.dropout(logits,rate=keep_prob)\n",
    "        \n",
    "        \n",
    "    \n",
    "        \n",
    "    \n",
    "    \n",
    "\n",
    "    # TODO: Apply a Flatten Layer\n",
    "    # Function Definition from Above:\n",
    "    #   flatten(x_tensor)\n",
    "    logits = flatten(logits)\n",
    "\n",
    "    # TODO: Apply 1, 2, or 3 Fully Connected Layers\n",
    "    #    Play around with different number of outputs\n",
    "    # Function Definition from Above:\n",
    "    #   fully_conn(x_tensor, num_outputs)\n",
    "    logits = fully_conn(logits, 32)\n",
    "    logits = fully_conn(logits, 64)\n",
    "    logits = tf.layers.dropout(logits,rate=keep_prob)\n",
    "    # TODO: Apply an Output Layer\n",
    "    #    Set this to the number of classes\n",
    "    # Function Definition from Above:\n",
    "    #   output(x_tensor, num_outputs)\n",
    "    out = output(logits, 10)\n",
    "    \n",
    "    # TODO: return output\n",
    "    return out\n",
    "\n",
    "\n",
    "\"\"\"\n",
    "DON'T MODIFY ANYTHING IN THIS CELL THAT IS BELOW THIS LINE\n",
    "\"\"\"\n",
    "\n",
    "##############################\n",
    "## Build the Neural Network ##\n",
    "##############################\n",
    "\n",
    "# Remove previous weights, bias, inputs, etc..\n",
    "tf.reset_default_graph()\n",
    "\n",
    "# Inputs\n",
    "x = neural_net_image_input((32, 32, 3))\n",
    "y = neural_net_label_input(10)\n",
    "keep_prob = neural_net_keep_prob_input()\n",
    "\n",
    "# Model\n",
    "logits = conv_net(x, keep_prob)\n",
    "\n",
    "# Name logits Tensor, so that is can be loaded from disk after training\n",
    "logits = tf.identity(logits, name='logits')\n",
    "\n",
    "# Loss and Optimizer\n",
    "cost = tf.reduce_mean(tf.nn.softmax_cross_entropy_with_logits(logits=logits, labels=y))\n",
    "optimizer = tf.train.AdamOptimizer().minimize(cost)\n",
    "\n",
    "# Accuracy\n",
    "correct_pred = tf.equal(tf.argmax(logits, 1), tf.argmax(y, 1))\n",
    "accuracy = tf.reduce_mean(tf.cast(correct_pred, tf.float32), name='accuracy')\n",
    "\n",
    "tests.test_conv_net(conv_net)"
   ]
  },
  {
   "cell_type": "markdown",
   "metadata": {},
   "source": [
    "## Train the Neural Network\n",
    "### Single Optimization\n",
    "Implement the function `train_neural_network` to do a single optimization.  The optimization should use `optimizer` to optimize in `session` with a `feed_dict` of the following:\n",
    "* `x` for image input\n",
    "* `y` for labels\n",
    "* `keep_prob` for keep probability for dropout\n",
    "\n",
    "This function will be called for each batch, so `tf.global_variables_initializer()` has already been called.\n",
    "\n",
    "Note: Nothing needs to be returned. This function is only optimizing the neural network."
   ]
  },
  {
   "cell_type": "code",
   "execution_count": 14,
   "metadata": {
    "collapsed": false
   },
   "outputs": [
    {
     "name": "stdout",
     "output_type": "stream",
     "text": [
      "Tests Passed\n"
     ]
    }
   ],
   "source": [
    "def train_neural_network(session, optimizer, keep_probability, feature_batch, label_batch):\n",
    "    \"\"\"\n",
    "    Optimize the session on a batch of images and labels\n",
    "    : session: Current TensorFlow session\n",
    "    : optimizer: TensorFlow optimizer function\n",
    "    : keep_probability: keep probability\n",
    "    : feature_batch: Batch of Numpy image data\n",
    "    : label_batch: Batch of Numpy label data\n",
    "    \"\"\"\n",
    "    # TODO: Implement Function\n",
    "    session.run(optimizer, feed_dict={\n",
    "        keep_prob: keep_probability,\n",
    "        x: feature_batch,\n",
    "        y: label_batch,\n",
    "    })\n",
    "\n",
    "\n",
    "\n",
    "\"\"\"\n",
    "DON'T MODIFY ANYTHING IN THIS CELL THAT IS BELOW THIS LINE\n",
    "\"\"\"\n",
    "tests.test_train_nn(train_neural_network)"
   ]
  },
  {
   "cell_type": "markdown",
   "metadata": {},
   "source": [
    "### Show Stats\n",
    "Implement the function `print_stats` to print loss and validation accuracy.  Use the global variables `valid_features` and `valid_labels` to calculate validation accuracy.  Use a keep probability of `1.0` to calculate the loss and validation accuracy."
   ]
  },
  {
   "cell_type": "code",
   "execution_count": 15,
   "metadata": {
    "collapsed": false
   },
   "outputs": [],
   "source": [
    "def print_stats(session, feature_batch, label_batch, cost, accuracy):\n",
    "    \"\"\"\n",
    "    Print information about loss and validation accuracy\n",
    "    : session: Current TensorFlow session\n",
    "    : feature_batch: Batch of Numpy image data\n",
    "    : label_batch: Batch of Numpy label data\n",
    "    : cost: TensorFlow cost function\n",
    "    : accuracy: TensorFlow accuracy function\n",
    "    \"\"\"\n",
    "    # TODO: Implement Function\n",
    "    loss = session.run(cost, feed_dict={x: feature_batch, y: label_batch, keep_prob:1.0})\n",
    "    validation_accuracy = session.run(accuracy, feed_dict={x: valid_features,y: valid_labels, keep_prob:1.0})\n",
    "   \n",
    "    print(\"Cost = \", loss, \"and Validation = \", validation_accuracy)"
   ]
  },
  {
   "cell_type": "markdown",
   "metadata": {},
   "source": [
    "### Hyperparameters\n",
    "Tune the following parameters:\n",
    "* Set `epochs` to the number of iterations until the network stops learning or start overfitting\n",
    "* Set `batch_size` to the highest number that your machine has memory for.  Most people set them to common sizes of memory:\n",
    " * 64\n",
    " * 128\n",
    " * 256\n",
    " * ...\n",
    "* Set `keep_probability` to the probability of keeping a node using dropout"
   ]
  },
  {
   "cell_type": "code",
   "execution_count": 16,
   "metadata": {
    "collapsed": true
   },
   "outputs": [],
   "source": [
    "# TODO: Tune Parameters\n",
    "epochs = 50\n",
    "batch_size = 256\n",
    "keep_probability = .40"
   ]
  },
  {
   "cell_type": "markdown",
   "metadata": {},
   "source": [
    "### Train on a Single CIFAR-10 Batch\n",
    "Instead of training the neural network on all the CIFAR-10 batches of data, let's use a single batch. This should save time while you iterate on the model to get a better accuracy.  Once the final validation accuracy is 50% or greater, run the model on all the data in the next section."
   ]
  },
  {
   "cell_type": "code",
   "execution_count": 17,
   "metadata": {
    "collapsed": false,
    "scrolled": true
   },
   "outputs": [
    {
     "name": "stdout",
     "output_type": "stream",
     "text": [
      "Checking the Training on a Single Batch...\n",
      "Epoch  1, CIFAR-10 Batch 1:  Cost =  2.25631 and Validation =  0.1868\n",
      "Epoch  2, CIFAR-10 Batch 1:  Cost =  2.17603 and Validation =  0.2328\n",
      "Epoch  3, CIFAR-10 Batch 1:  Cost =  1.99756 and Validation =  0.3058\n",
      "Epoch  4, CIFAR-10 Batch 1:  Cost =  1.92241 and Validation =  0.3452\n",
      "Epoch  5, CIFAR-10 Batch 1:  Cost =  1.89801 and Validation =  0.3574\n",
      "Epoch  6, CIFAR-10 Batch 1:  Cost =  1.8201 and Validation =  0.372\n",
      "Epoch  7, CIFAR-10 Batch 1:  Cost =  1.74371 and Validation =  0.3862\n",
      "Epoch  8, CIFAR-10 Batch 1:  Cost =  1.66099 and Validation =  0.3968\n",
      "Epoch  9, CIFAR-10 Batch 1:  Cost =  1.57513 and Validation =  0.402\n",
      "Epoch 10, CIFAR-10 Batch 1:  Cost =  1.47816 and Validation =  0.416\n",
      "Epoch 11, CIFAR-10 Batch 1:  Cost =  1.39084 and Validation =  0.4346\n",
      "Epoch 12, CIFAR-10 Batch 1:  Cost =  1.31918 and Validation =  0.4428\n",
      "Epoch 13, CIFAR-10 Batch 1:  Cost =  1.24674 and Validation =  0.4454\n",
      "Epoch 14, CIFAR-10 Batch 1:  Cost =  1.16854 and Validation =  0.4622\n",
      "Epoch 15, CIFAR-10 Batch 1:  Cost =  1.10232 and Validation =  0.4724\n",
      "Epoch 16, CIFAR-10 Batch 1:  Cost =  1.03484 and Validation =  0.4792\n",
      "Epoch 17, CIFAR-10 Batch 1:  Cost =  0.97114 and Validation =  0.4878\n",
      "Epoch 18, CIFAR-10 Batch 1:  Cost =  0.91504 and Validation =  0.4954\n",
      "Epoch 19, CIFAR-10 Batch 1:  Cost =  0.867455 and Validation =  0.5044\n",
      "Epoch 20, CIFAR-10 Batch 1:  Cost =  0.830986 and Validation =  0.5032\n",
      "Epoch 21, CIFAR-10 Batch 1:  Cost =  0.785071 and Validation =  0.5056\n",
      "Epoch 22, CIFAR-10 Batch 1:  Cost =  0.748813 and Validation =  0.5088\n",
      "Epoch 23, CIFAR-10 Batch 1:  Cost =  0.716294 and Validation =  0.5074\n",
      "Epoch 24, CIFAR-10 Batch 1:  Cost =  0.696821 and Validation =  0.5036\n",
      "Epoch 25, CIFAR-10 Batch 1:  Cost =  0.654334 and Validation =  0.5292\n",
      "Epoch 26, CIFAR-10 Batch 1:  Cost =  0.619104 and Validation =  0.5304\n",
      "Epoch 27, CIFAR-10 Batch 1:  Cost =  0.581386 and Validation =  0.5334\n",
      "Epoch 28, CIFAR-10 Batch 1:  Cost =  0.557173 and Validation =  0.5234\n",
      "Epoch 29, CIFAR-10 Batch 1:  Cost =  0.534737 and Validation =  0.5216\n",
      "Epoch 30, CIFAR-10 Batch 1:  Cost =  0.499749 and Validation =  0.5224\n",
      "Epoch 31, CIFAR-10 Batch 1:  Cost =  0.464644 and Validation =  0.527\n",
      "Epoch 32, CIFAR-10 Batch 1:  Cost =  0.438118 and Validation =  0.529\n",
      "Epoch 33, CIFAR-10 Batch 1:  Cost =  0.424427 and Validation =  0.5292\n",
      "Epoch 34, CIFAR-10 Batch 1:  Cost =  0.402001 and Validation =  0.5314\n",
      "Epoch 35, CIFAR-10 Batch 1:  Cost =  0.359179 and Validation =  0.5282\n",
      "Epoch 36, CIFAR-10 Batch 1:  Cost =  0.382356 and Validation =  0.5076\n",
      "Epoch 37, CIFAR-10 Batch 1:  Cost =  0.296412 and Validation =  0.5468\n",
      "Epoch 38, CIFAR-10 Batch 1:  Cost =  0.30878 and Validation =  0.525\n",
      "Epoch 39, CIFAR-10 Batch 1:  Cost =  0.302997 and Validation =  0.5086\n",
      "Epoch 40, CIFAR-10 Batch 1:  Cost =  0.246253 and Validation =  0.5292\n",
      "Epoch 41, CIFAR-10 Batch 1:  Cost =  0.251915 and Validation =  0.5248\n",
      "Epoch 42, CIFAR-10 Batch 1:  Cost =  0.20888 and Validation =  0.5404\n",
      "Epoch 43, CIFAR-10 Batch 1:  Cost =  0.191794 and Validation =  0.538\n",
      "Epoch 44, CIFAR-10 Batch 1:  Cost =  0.17784 and Validation =  0.5424\n",
      "Epoch 45, CIFAR-10 Batch 1:  Cost =  0.168038 and Validation =  0.5434\n",
      "Epoch 46, CIFAR-10 Batch 1:  Cost =  0.276857 and Validation =  0.5206\n",
      "Epoch 47, CIFAR-10 Batch 1:  Cost =  0.193359 and Validation =  0.5344\n",
      "Epoch 48, CIFAR-10 Batch 1:  Cost =  0.135255 and Validation =  0.55\n",
      "Epoch 49, CIFAR-10 Batch 1:  Cost =  0.113992 and Validation =  0.5562\n",
      "Epoch 50, CIFAR-10 Batch 1:  Cost =  0.0976088 and Validation =  0.5568\n"
     ]
    }
   ],
   "source": [
    "\"\"\"\n",
    "DON'T MODIFY ANYTHING IN THIS CELL\n",
    "\"\"\"\n",
    "print('Checking the Training on a Single Batch...')\n",
    "with tf.Session() as sess:\n",
    "    # Initializing the variables\n",
    "    sess.run(tf.global_variables_initializer())\n",
    "    \n",
    "    # Training cycle\n",
    "    for epoch in range(epochs):\n",
    "        batch_i = 1\n",
    "        for batch_features, batch_labels in helper.load_preprocess_training_batch(batch_i, batch_size):\n",
    "            train_neural_network(sess, optimizer, keep_probability, batch_features, batch_labels)\n",
    "        print('Epoch {:>2}, CIFAR-10 Batch {}:  '.format(epoch + 1, batch_i), end='')\n",
    "        print_stats(sess, batch_features, batch_labels, cost, accuracy)"
   ]
  },
  {
   "cell_type": "markdown",
   "metadata": {},
   "source": [
    "### Fully Train the Model\n",
    "Now that you got a good accuracy with a single CIFAR-10 batch, try it with all five batches."
   ]
  },
  {
   "cell_type": "code",
   "execution_count": 18,
   "metadata": {
    "collapsed": false
   },
   "outputs": [
    {
     "name": "stdout",
     "output_type": "stream",
     "text": [
      "Training...\n",
      "Epoch  1, CIFAR-10 Batch 1:  Cost =  2.25378 and Validation =  0.2158\n",
      "Epoch  1, CIFAR-10 Batch 2:  Cost =  2.00843 and Validation =  0.2584\n",
      "Epoch  1, CIFAR-10 Batch 3:  Cost =  1.73154 and Validation =  0.2734\n",
      "Epoch  1, CIFAR-10 Batch 4:  Cost =  1.74964 and Validation =  0.3344\n",
      "Epoch  1, CIFAR-10 Batch 5:  Cost =  1.68471 and Validation =  0.352\n",
      "Epoch  2, CIFAR-10 Batch 1:  Cost =  1.93008 and Validation =  0.3844\n",
      "Epoch  2, CIFAR-10 Batch 2:  Cost =  1.59675 and Validation =  0.3972\n",
      "Epoch  2, CIFAR-10 Batch 3:  Cost =  1.46631 and Validation =  0.4066\n",
      "Epoch  2, CIFAR-10 Batch 4:  Cost =  1.5694 and Validation =  0.4216\n",
      "Epoch  2, CIFAR-10 Batch 5:  Cost =  1.49036 and Validation =  0.43\n",
      "Epoch  3, CIFAR-10 Batch 1:  Cost =  1.6548 and Validation =  0.444\n",
      "Epoch  3, CIFAR-10 Batch 2:  Cost =  1.34492 and Validation =  0.4622\n",
      "Epoch  3, CIFAR-10 Batch 3:  Cost =  1.18375 and Validation =  0.448\n",
      "Epoch  3, CIFAR-10 Batch 4:  Cost =  1.37095 and Validation =  0.4866\n",
      "Epoch  3, CIFAR-10 Batch 5:  Cost =  1.31914 and Validation =  0.4896\n",
      "Epoch  4, CIFAR-10 Batch 1:  Cost =  1.40018 and Validation =  0.5008\n",
      "Epoch  4, CIFAR-10 Batch 2:  Cost =  1.21099 and Validation =  0.4924\n",
      "Epoch  4, CIFAR-10 Batch 3:  Cost =  1.02151 and Validation =  0.4842\n",
      "Epoch  4, CIFAR-10 Batch 4:  Cost =  1.24164 and Validation =  0.5348\n",
      "Epoch  4, CIFAR-10 Batch 5:  Cost =  1.15668 and Validation =  0.5276\n",
      "Epoch  5, CIFAR-10 Batch 1:  Cost =  1.21139 and Validation =  0.5472\n",
      "Epoch  5, CIFAR-10 Batch 2:  Cost =  1.06269 and Validation =  0.547\n",
      "Epoch  5, CIFAR-10 Batch 3:  Cost =  0.913446 and Validation =  0.5182\n",
      "Epoch  5, CIFAR-10 Batch 4:  Cost =  1.17147 and Validation =  0.5558\n",
      "Epoch  5, CIFAR-10 Batch 5:  Cost =  1.07555 and Validation =  0.5474\n",
      "Epoch  6, CIFAR-10 Batch 1:  Cost =  1.08074 and Validation =  0.5654\n",
      "Epoch  6, CIFAR-10 Batch 2:  Cost =  0.989197 and Validation =  0.5622\n",
      "Epoch  6, CIFAR-10 Batch 3:  Cost =  0.805134 and Validation =  0.5584\n",
      "Epoch  6, CIFAR-10 Batch 4:  Cost =  1.09597 and Validation =  0.573\n",
      "Epoch  6, CIFAR-10 Batch 5:  Cost =  0.972232 and Validation =  0.5666\n",
      "Epoch  7, CIFAR-10 Batch 1:  Cost =  0.974418 and Validation =  0.5816\n",
      "Epoch  7, CIFAR-10 Batch 2:  Cost =  0.914853 and Validation =  0.5812\n",
      "Epoch  7, CIFAR-10 Batch 3:  Cost =  0.716365 and Validation =  0.5846\n",
      "Epoch  7, CIFAR-10 Batch 4:  Cost =  1.0059 and Validation =  0.5786\n",
      "Epoch  7, CIFAR-10 Batch 5:  Cost =  0.87181 and Validation =  0.5836\n",
      "Epoch  8, CIFAR-10 Batch 1:  Cost =  0.886546 and Validation =  0.5938\n",
      "Epoch  8, CIFAR-10 Batch 2:  Cost =  0.853291 and Validation =  0.5952\n",
      "Epoch  8, CIFAR-10 Batch 3:  Cost =  0.649213 and Validation =  0.5972\n",
      "Epoch  8, CIFAR-10 Batch 4:  Cost =  0.923905 and Validation =  0.5858\n",
      "Epoch  8, CIFAR-10 Batch 5:  Cost =  0.784092 and Validation =  0.5938\n",
      "Epoch  9, CIFAR-10 Batch 1:  Cost =  0.791529 and Validation =  0.6068\n",
      "Epoch  9, CIFAR-10 Batch 2:  Cost =  0.778264 and Validation =  0.6106\n",
      "Epoch  9, CIFAR-10 Batch 3:  Cost =  0.58979 and Validation =  0.6058\n",
      "Epoch  9, CIFAR-10 Batch 4:  Cost =  0.832509 and Validation =  0.5994\n",
      "Epoch  9, CIFAR-10 Batch 5:  Cost =  0.692616 and Validation =  0.6076\n",
      "Epoch 10, CIFAR-10 Batch 1:  Cost =  0.699054 and Validation =  0.6186\n",
      "Epoch 10, CIFAR-10 Batch 2:  Cost =  0.692977 and Validation =  0.6204\n",
      "Epoch 10, CIFAR-10 Batch 3:  Cost =  0.53385 and Validation =  0.619\n",
      "Epoch 10, CIFAR-10 Batch 4:  Cost =  0.725314 and Validation =  0.6132\n",
      "Epoch 10, CIFAR-10 Batch 5:  Cost =  0.603989 and Validation =  0.6224\n",
      "Epoch 11, CIFAR-10 Batch 1:  Cost =  0.621537 and Validation =  0.6294\n",
      "Epoch 11, CIFAR-10 Batch 2:  Cost =  0.592806 and Validation =  0.6326\n",
      "Epoch 11, CIFAR-10 Batch 3:  Cost =  0.484482 and Validation =  0.6266\n",
      "Epoch 11, CIFAR-10 Batch 4:  Cost =  0.623649 and Validation =  0.6246\n",
      "Epoch 11, CIFAR-10 Batch 5:  Cost =  0.530231 and Validation =  0.6304\n",
      "Epoch 12, CIFAR-10 Batch 1:  Cost =  0.553542 and Validation =  0.6372\n",
      "Epoch 12, CIFAR-10 Batch 2:  Cost =  0.492561 and Validation =  0.641\n",
      "Epoch 12, CIFAR-10 Batch 3:  Cost =  0.436645 and Validation =  0.641\n",
      "Epoch 12, CIFAR-10 Batch 4:  Cost =  0.529715 and Validation =  0.6364\n",
      "Epoch 12, CIFAR-10 Batch 5:  Cost =  0.48072 and Validation =  0.6382\n",
      "Epoch 13, CIFAR-10 Batch 1:  Cost =  0.483977 and Validation =  0.6494\n",
      "Epoch 13, CIFAR-10 Batch 2:  Cost =  0.413544 and Validation =  0.649\n",
      "Epoch 13, CIFAR-10 Batch 3:  Cost =  0.383269 and Validation =  0.6454\n",
      "Epoch 13, CIFAR-10 Batch 4:  Cost =  0.454458 and Validation =  0.633\n",
      "Epoch 13, CIFAR-10 Batch 5:  Cost =  0.431983 and Validation =  0.6482\n",
      "Epoch 14, CIFAR-10 Batch 1:  Cost =  0.424367 and Validation =  0.6444\n",
      "Epoch 14, CIFAR-10 Batch 2:  Cost =  0.368184 and Validation =  0.6522\n",
      "Epoch 14, CIFAR-10 Batch 3:  Cost =  0.348782 and Validation =  0.6318\n",
      "Epoch 14, CIFAR-10 Batch 4:  Cost =  0.384145 and Validation =  0.6438\n",
      "Epoch 14, CIFAR-10 Batch 5:  Cost =  0.366646 and Validation =  0.6508\n",
      "Epoch 15, CIFAR-10 Batch 1:  Cost =  0.372056 and Validation =  0.649\n",
      "Epoch 15, CIFAR-10 Batch 2:  Cost =  0.317694 and Validation =  0.6574\n",
      "Epoch 15, CIFAR-10 Batch 3:  Cost =  0.312907 and Validation =  0.635\n",
      "Epoch 15, CIFAR-10 Batch 4:  Cost =  0.313381 and Validation =  0.6506\n",
      "Epoch 15, CIFAR-10 Batch 5:  Cost =  0.326652 and Validation =  0.6428\n",
      "Epoch 16, CIFAR-10 Batch 1:  Cost =  0.326503 and Validation =  0.6586\n",
      "Epoch 16, CIFAR-10 Batch 2:  Cost =  0.274913 and Validation =  0.658\n",
      "Epoch 16, CIFAR-10 Batch 3:  Cost =  0.271131 and Validation =  0.6482\n",
      "Epoch 16, CIFAR-10 Batch 4:  Cost =  0.277655 and Validation =  0.6528\n",
      "Epoch 16, CIFAR-10 Batch 5:  Cost =  0.29286 and Validation =  0.6372\n",
      "Epoch 17, CIFAR-10 Batch 1:  Cost =  0.292838 and Validation =  0.6554\n",
      "Epoch 17, CIFAR-10 Batch 2:  Cost =  0.230508 and Validation =  0.667\n",
      "Epoch 17, CIFAR-10 Batch 3:  Cost =  0.233741 and Validation =  0.6674\n",
      "Epoch 17, CIFAR-10 Batch 4:  Cost =  0.25899 and Validation =  0.6494\n",
      "Epoch 17, CIFAR-10 Batch 5:  Cost =  0.23607 and Validation =  0.648\n",
      "Epoch 18, CIFAR-10 Batch 1:  Cost =  0.269146 and Validation =  0.648\n",
      "Epoch 18, CIFAR-10 Batch 2:  Cost =  0.204866 and Validation =  0.6744\n",
      "Epoch 18, CIFAR-10 Batch 3:  Cost =  0.209433 and Validation =  0.6716\n",
      "Epoch 18, CIFAR-10 Batch 4:  Cost =  0.234787 and Validation =  0.6478\n",
      "Epoch 18, CIFAR-10 Batch 5:  Cost =  0.202805 and Validation =  0.6464\n",
      "Epoch 19, CIFAR-10 Batch 1:  Cost =  0.262006 and Validation =  0.6422\n",
      "Epoch 19, CIFAR-10 Batch 2:  Cost =  0.175597 and Validation =  0.6768\n",
      "Epoch 19, CIFAR-10 Batch 3:  Cost =  0.184506 and Validation =  0.668\n",
      "Epoch 19, CIFAR-10 Batch 4:  Cost =  0.207981 and Validation =  0.6478\n",
      "Epoch 19, CIFAR-10 Batch 5:  Cost =  0.17682 and Validation =  0.6386\n",
      "Epoch 20, CIFAR-10 Batch 1:  Cost =  0.212382 and Validation =  0.6434\n",
      "Epoch 20, CIFAR-10 Batch 2:  Cost =  0.153027 and Validation =  0.6782\n",
      "Epoch 20, CIFAR-10 Batch 3:  Cost =  0.169311 and Validation =  0.6596\n",
      "Epoch 20, CIFAR-10 Batch 4:  Cost =  0.182193 and Validation =  0.6512\n",
      "Epoch 20, CIFAR-10 Batch 5:  Cost =  0.158675 and Validation =  0.6354\n",
      "Epoch 21, CIFAR-10 Batch 1:  Cost =  0.18586 and Validation =  0.6424\n",
      "Epoch 21, CIFAR-10 Batch 2:  Cost =  0.137648 and Validation =  0.676\n",
      "Epoch 21, CIFAR-10 Batch 3:  Cost =  0.161986 and Validation =  0.6524\n",
      "Epoch 21, CIFAR-10 Batch 4:  Cost =  0.157977 and Validation =  0.653\n",
      "Epoch 21, CIFAR-10 Batch 5:  Cost =  0.136674 and Validation =  0.6402\n",
      "Epoch 22, CIFAR-10 Batch 1:  Cost =  0.171448 and Validation =  0.6416\n",
      "Epoch 22, CIFAR-10 Batch 2:  Cost =  0.126164 and Validation =  0.6736\n",
      "Epoch 22, CIFAR-10 Batch 3:  Cost =  0.158392 and Validation =  0.6436\n",
      "Epoch 22, CIFAR-10 Batch 4:  Cost =  0.162345 and Validation =  0.6438\n",
      "Epoch 22, CIFAR-10 Batch 5:  Cost =  0.118692 and Validation =  0.6518\n",
      "Epoch 23, CIFAR-10 Batch 1:  Cost =  0.178327 and Validation =  0.6422\n",
      "Epoch 23, CIFAR-10 Batch 2:  Cost =  0.119126 and Validation =  0.6696\n",
      "Epoch 23, CIFAR-10 Batch 3:  Cost =  0.139827 and Validation =  0.6564\n",
      "Epoch 23, CIFAR-10 Batch 4:  Cost =  0.143235 and Validation =  0.6364\n",
      "Epoch 23, CIFAR-10 Batch 5:  Cost =  0.0990165 and Validation =  0.6646\n",
      "Epoch 24, CIFAR-10 Batch 1:  Cost =  0.186181 and Validation =  0.6492\n",
      "Epoch 24, CIFAR-10 Batch 2:  Cost =  0.0982294 and Validation =  0.6702\n",
      "Epoch 24, CIFAR-10 Batch 3:  Cost =  0.134976 and Validation =  0.6554\n",
      "Epoch 24, CIFAR-10 Batch 4:  Cost =  0.114824 and Validation =  0.6614\n",
      "Epoch 24, CIFAR-10 Batch 5:  Cost =  0.0955483 and Validation =  0.6704\n",
      "Epoch 25, CIFAR-10 Batch 1:  Cost =  0.200454 and Validation =  0.618\n",
      "Epoch 25, CIFAR-10 Batch 2:  Cost =  0.0881882 and Validation =  0.669\n",
      "Epoch 25, CIFAR-10 Batch 3:  Cost =  0.139669 and Validation =  0.6422\n",
      "Epoch 25, CIFAR-10 Batch 4:  Cost =  0.094742 and Validation =  0.6654\n",
      "Epoch 25, CIFAR-10 Batch 5:  Cost =  0.0869115 and Validation =  0.6604\n",
      "Epoch 26, CIFAR-10 Batch 1:  Cost =  0.158044 and Validation =  0.6354\n",
      "Epoch 26, CIFAR-10 Batch 2:  Cost =  0.0812522 and Validation =  0.6658\n",
      "Epoch 26, CIFAR-10 Batch 3:  Cost =  0.123888 and Validation =  0.631\n",
      "Epoch 26, CIFAR-10 Batch 4:  Cost =  0.0816313 and Validation =  0.6684\n",
      "Epoch 26, CIFAR-10 Batch 5:  Cost =  0.0658943 and Validation =  0.6636\n",
      "Epoch 27, CIFAR-10 Batch 1:  Cost =  0.124186 and Validation =  0.6502\n",
      "Epoch 27, CIFAR-10 Batch 2:  Cost =  0.0693071 and Validation =  0.6634\n",
      "Epoch 27, CIFAR-10 Batch 3:  Cost =  0.105135 and Validation =  0.6336\n",
      "Epoch 27, CIFAR-10 Batch 4:  Cost =  0.0849011 and Validation =  0.6688\n",
      "Epoch 27, CIFAR-10 Batch 5:  Cost =  0.0512178 and Validation =  0.6562\n",
      "Epoch 28, CIFAR-10 Batch 1:  Cost =  0.0999431 and Validation =  0.65\n",
      "Epoch 28, CIFAR-10 Batch 2:  Cost =  0.0639744 and Validation =  0.662\n",
      "Epoch 28, CIFAR-10 Batch 3:  Cost =  0.0878168 and Validation =  0.6316\n",
      "Epoch 28, CIFAR-10 Batch 4:  Cost =  0.0867647 and Validation =  0.659\n",
      "Epoch 28, CIFAR-10 Batch 5:  Cost =  0.0429502 and Validation =  0.6462\n",
      "Epoch 29, CIFAR-10 Batch 1:  Cost =  0.0824537 and Validation =  0.6528\n",
      "Epoch 29, CIFAR-10 Batch 2:  Cost =  0.0583812 and Validation =  0.6608\n",
      "Epoch 29, CIFAR-10 Batch 3:  Cost =  0.0663326 and Validation =  0.6448\n",
      "Epoch 29, CIFAR-10 Batch 4:  Cost =  0.0878625 and Validation =  0.653\n",
      "Epoch 29, CIFAR-10 Batch 5:  Cost =  0.0448862 and Validation =  0.631\n",
      "Epoch 30, CIFAR-10 Batch 1:  Cost =  0.0641556 and Validation =  0.658\n",
      "Epoch 30, CIFAR-10 Batch 2:  Cost =  0.0501427 and Validation =  0.6612\n",
      "Epoch 30, CIFAR-10 Batch 3:  Cost =  0.0530094 and Validation =  0.6586\n",
      "Epoch 30, CIFAR-10 Batch 4:  Cost =  0.0766078 and Validation =  0.6346\n",
      "Epoch 30, CIFAR-10 Batch 5:  Cost =  0.0736472 and Validation =  0.6048\n",
      "Epoch 31, CIFAR-10 Batch 1:  Cost =  0.0750694 and Validation =  0.6386\n",
      "Epoch 31, CIFAR-10 Batch 2:  Cost =  0.0659317 and Validation =  0.6558\n",
      "Epoch 31, CIFAR-10 Batch 3:  Cost =  0.0687295 and Validation =  0.6314\n",
      "Epoch 31, CIFAR-10 Batch 4:  Cost =  0.07763 and Validation =  0.6234\n",
      "Epoch 31, CIFAR-10 Batch 5:  Cost =  0.0489795 and Validation =  0.6276\n",
      "Epoch 32, CIFAR-10 Batch 1:  Cost =  0.0912191 and Validation =  0.629\n",
      "Epoch 32, CIFAR-10 Batch 2:  Cost =  0.0863161 and Validation =  0.6138\n",
      "Epoch 32, CIFAR-10 Batch 3:  Cost =  0.111383 and Validation =  0.5904\n",
      "Epoch 32, CIFAR-10 Batch 4:  Cost =  0.098992 and Validation =  0.6312\n",
      "Epoch 32, CIFAR-10 Batch 5:  Cost =  0.0454344 and Validation =  0.6488\n",
      "Epoch 33, CIFAR-10 Batch 1:  Cost =  0.0622148 and Validation =  0.6408\n",
      "Epoch 33, CIFAR-10 Batch 2:  Cost =  0.0613746 and Validation =  0.6078\n",
      "Epoch 33, CIFAR-10 Batch 3:  Cost =  0.0816651 and Validation =  0.598\n",
      "Epoch 33, CIFAR-10 Batch 4:  Cost =  0.0958664 and Validation =  0.6224\n",
      "Epoch 33, CIFAR-10 Batch 5:  Cost =  0.0377485 and Validation =  0.643\n",
      "Epoch 34, CIFAR-10 Batch 1:  Cost =  0.0654502 and Validation =  0.6358\n",
      "Epoch 34, CIFAR-10 Batch 2:  Cost =  0.0394592 and Validation =  0.6348\n",
      "Epoch 34, CIFAR-10 Batch 3:  Cost =  0.0480458 and Validation =  0.6202\n",
      "Epoch 34, CIFAR-10 Batch 4:  Cost =  0.0875245 and Validation =  0.6126\n",
      "Epoch 34, CIFAR-10 Batch 5:  Cost =  0.0353433 and Validation =  0.6334\n",
      "Epoch 35, CIFAR-10 Batch 1:  Cost =  0.0652905 and Validation =  0.649\n",
      "Epoch 35, CIFAR-10 Batch 2:  Cost =  0.0337536 and Validation =  0.6516\n",
      "Epoch 35, CIFAR-10 Batch 3:  Cost =  0.0350287 and Validation =  0.6316\n",
      "Epoch 35, CIFAR-10 Batch 4:  Cost =  0.0449186 and Validation =  0.6264\n",
      "Epoch 35, CIFAR-10 Batch 5:  Cost =  0.0253867 and Validation =  0.633\n",
      "Epoch 36, CIFAR-10 Batch 1:  Cost =  0.037388 and Validation =  0.6506\n",
      "Epoch 36, CIFAR-10 Batch 2:  Cost =  0.0305052 and Validation =  0.6462\n",
      "Epoch 36, CIFAR-10 Batch 3:  Cost =  0.0240792 and Validation =  0.631\n",
      "Epoch 36, CIFAR-10 Batch 4:  Cost =  0.0305879 and Validation =  0.6346\n",
      "Epoch 36, CIFAR-10 Batch 5:  Cost =  0.0174926 and Validation =  0.6386\n",
      "Epoch 37, CIFAR-10 Batch 1:  Cost =  0.0318337 and Validation =  0.663\n",
      "Epoch 37, CIFAR-10 Batch 2:  Cost =  0.0171334 and Validation =  0.6404\n",
      "Epoch 37, CIFAR-10 Batch 3:  Cost =  0.0202056 and Validation =  0.6334\n",
      "Epoch 37, CIFAR-10 Batch 4:  Cost =  0.0359739 and Validation =  0.6308\n",
      "Epoch 37, CIFAR-10 Batch 5:  Cost =  0.0122192 and Validation =  0.635\n",
      "Epoch 38, CIFAR-10 Batch 1:  Cost =  0.032007 and Validation =  0.656\n",
      "Epoch 38, CIFAR-10 Batch 2:  Cost =  0.0161581 and Validation =  0.643\n",
      "Epoch 38, CIFAR-10 Batch 3:  Cost =  0.0235767 and Validation =  0.6304\n",
      "Epoch 38, CIFAR-10 Batch 4:  Cost =  0.0394434 and Validation =  0.6126\n",
      "Epoch 38, CIFAR-10 Batch 5:  Cost =  0.014751 and Validation =  0.6378\n",
      "Epoch 39, CIFAR-10 Batch 1:  Cost =  0.0364441 and Validation =  0.6438\n",
      "Epoch 39, CIFAR-10 Batch 2:  Cost =  0.0232629 and Validation =  0.63\n",
      "Epoch 39, CIFAR-10 Batch 3:  Cost =  0.0209671 and Validation =  0.6378\n",
      "Epoch 39, CIFAR-10 Batch 4:  Cost =  0.0512302 and Validation =  0.5872\n",
      "Epoch 39, CIFAR-10 Batch 5:  Cost =  0.0238942 and Validation =  0.621\n",
      "Epoch 40, CIFAR-10 Batch 1:  Cost =  0.0323089 and Validation =  0.6466\n",
      "Epoch 40, CIFAR-10 Batch 2:  Cost =  0.0216061 and Validation =  0.616\n",
      "Epoch 40, CIFAR-10 Batch 3:  Cost =  0.0256276 and Validation =  0.6326\n",
      "Epoch 40, CIFAR-10 Batch 4:  Cost =  0.0337747 and Validation =  0.6208\n",
      "Epoch 40, CIFAR-10 Batch 5:  Cost =  0.013698 and Validation =  0.6362\n",
      "Epoch 41, CIFAR-10 Batch 1:  Cost =  0.023178 and Validation =  0.642\n",
      "Epoch 41, CIFAR-10 Batch 2:  Cost =  0.0141346 and Validation =  0.6286\n",
      "Epoch 41, CIFAR-10 Batch 3:  Cost =  0.0182558 and Validation =  0.6342\n",
      "Epoch 41, CIFAR-10 Batch 4:  Cost =  0.0118178 and Validation =  0.6366\n",
      "Epoch 41, CIFAR-10 Batch 5:  Cost =  0.0144847 and Validation =  0.6346\n",
      "Epoch 42, CIFAR-10 Batch 1:  Cost =  0.0338077 and Validation =  0.6242\n",
      "Epoch 42, CIFAR-10 Batch 2:  Cost =  0.0204887 and Validation =  0.6188\n",
      "Epoch 42, CIFAR-10 Batch 3:  Cost =  0.0243569 and Validation =  0.6324\n",
      "Epoch 42, CIFAR-10 Batch 4:  Cost =  0.0147125 and Validation =  0.6326\n",
      "Epoch 42, CIFAR-10 Batch 5:  Cost =  0.0174463 and Validation =  0.6254\n",
      "Epoch 43, CIFAR-10 Batch 1:  Cost =  0.052598 and Validation =  0.6082\n",
      "Epoch 43, CIFAR-10 Batch 2:  Cost =  0.0252688 and Validation =  0.608\n",
      "Epoch 43, CIFAR-10 Batch 3:  Cost =  0.0483186 and Validation =  0.6176\n",
      "Epoch 43, CIFAR-10 Batch 4:  Cost =  0.0194538 and Validation =  0.6374\n",
      "Epoch 43, CIFAR-10 Batch 5:  Cost =  0.0175943 and Validation =  0.641\n",
      "Epoch 44, CIFAR-10 Batch 1:  Cost =  0.0376866 and Validation =  0.6092\n",
      "Epoch 44, CIFAR-10 Batch 2:  Cost =  0.0367616 and Validation =  0.5942\n",
      "Epoch 44, CIFAR-10 Batch 3:  Cost =  0.0200651 and Validation =  0.6166\n",
      "Epoch 44, CIFAR-10 Batch 4:  Cost =  0.0244354 and Validation =  0.6288\n",
      "Epoch 44, CIFAR-10 Batch 5:  Cost =  0.0183214 and Validation =  0.6236\n",
      "Epoch 45, CIFAR-10 Batch 1:  Cost =  0.0402058 and Validation =  0.6108\n",
      "Epoch 45, CIFAR-10 Batch 2:  Cost =  0.0140176 and Validation =  0.5962\n",
      "Epoch 45, CIFAR-10 Batch 3:  Cost =  0.0256299 and Validation =  0.6288\n",
      "Epoch 45, CIFAR-10 Batch 4:  Cost =  0.0178741 and Validation =  0.6258\n",
      "Epoch 45, CIFAR-10 Batch 5:  Cost =  0.0313651 and Validation =  0.6126\n",
      "Epoch 46, CIFAR-10 Batch 1:  Cost =  0.0525257 and Validation =  0.5844\n",
      "Epoch 46, CIFAR-10 Batch 2:  Cost =  0.0199924 and Validation =  0.625\n",
      "Epoch 46, CIFAR-10 Batch 3:  Cost =  0.0234516 and Validation =  0.6274\n",
      "Epoch 46, CIFAR-10 Batch 4:  Cost =  0.0235615 and Validation =  0.6206\n",
      "Epoch 46, CIFAR-10 Batch 5:  Cost =  0.0121742 and Validation =  0.6212\n",
      "Epoch 47, CIFAR-10 Batch 1:  Cost =  0.0221736 and Validation =  0.6104\n",
      "Epoch 47, CIFAR-10 Batch 2:  Cost =  0.007688 and Validation =  0.6232\n",
      "Epoch 47, CIFAR-10 Batch 3:  Cost =  0.0131051 and Validation =  0.6366\n",
      "Epoch 47, CIFAR-10 Batch 4:  Cost =  0.0175289 and Validation =  0.623\n",
      "Epoch 47, CIFAR-10 Batch 5:  Cost =  0.0177731 and Validation =  0.6106\n",
      "Epoch 48, CIFAR-10 Batch 1:  Cost =  0.0146708 and Validation =  0.6362\n",
      "Epoch 48, CIFAR-10 Batch 2:  Cost =  0.0125077 and Validation =  0.6432\n",
      "Epoch 48, CIFAR-10 Batch 3:  Cost =  0.0185464 and Validation =  0.6334\n",
      "Epoch 48, CIFAR-10 Batch 4:  Cost =  0.0183219 and Validation =  0.6144\n",
      "Epoch 48, CIFAR-10 Batch 5:  Cost =  0.01926 and Validation =  0.6146\n",
      "Epoch 49, CIFAR-10 Batch 1:  Cost =  0.0136273 and Validation =  0.6392\n",
      "Epoch 49, CIFAR-10 Batch 2:  Cost =  0.00848224 and Validation =  0.6324\n",
      "Epoch 49, CIFAR-10 Batch 3:  Cost =  0.024159 and Validation =  0.611\n",
      "Epoch 49, CIFAR-10 Batch 4:  Cost =  0.0192768 and Validation =  0.614\n",
      "Epoch 49, CIFAR-10 Batch 5:  Cost =  0.0235809 and Validation =  0.624\n",
      "Epoch 50, CIFAR-10 Batch 1:  Cost =  0.0186191 and Validation =  0.6226\n",
      "Epoch 50, CIFAR-10 Batch 2:  Cost =  0.0061173 and Validation =  0.6278\n",
      "Epoch 50, CIFAR-10 Batch 3:  Cost =  0.0289532 and Validation =  0.5858\n",
      "Epoch 50, CIFAR-10 Batch 4:  Cost =  0.0200299 and Validation =  0.6154\n",
      "Epoch 50, CIFAR-10 Batch 5:  Cost =  0.0500066 and Validation =  0.5932\n"
     ]
    }
   ],
   "source": [
    "\"\"\"\n",
    "DON'T MODIFY ANYTHING IN THIS CELL\n",
    "\"\"\"\n",
    "save_model_path = './image_classification'\n",
    "\n",
    "print('Training...')\n",
    "with tf.Session() as sess:\n",
    "    # Initializing the variables\n",
    "    sess.run(tf.global_variables_initializer())\n",
    "    \n",
    "    # Training cycle\n",
    "    for epoch in range(epochs):\n",
    "        # Loop over all batches\n",
    "        n_batches = 5\n",
    "        for batch_i in range(1, n_batches + 1):\n",
    "            for batch_features, batch_labels in helper.load_preprocess_training_batch(batch_i, batch_size):\n",
    "                train_neural_network(sess, optimizer, keep_probability, batch_features, batch_labels)\n",
    "            print('Epoch {:>2}, CIFAR-10 Batch {}:  '.format(epoch + 1, batch_i), end='')\n",
    "            print_stats(sess, batch_features, batch_labels, cost, accuracy)\n",
    "            \n",
    "    # Save Model\n",
    "    saver = tf.train.Saver()\n",
    "    save_path = saver.save(sess, save_model_path)"
   ]
  },
  {
   "cell_type": "markdown",
   "metadata": {},
   "source": [
    "# Checkpoint\n",
    "The model has been saved to disk.\n",
    "## Test Model\n",
    "Test your model against the test dataset.  This will be your final accuracy. You should have an accuracy greater than 50%. If you don't, keep tweaking the model architecture and parameters."
   ]
  },
  {
   "cell_type": "code",
   "execution_count": 19,
   "metadata": {
    "collapsed": false
   },
   "outputs": [
    {
     "name": "stdout",
     "output_type": "stream",
     "text": [
      "Testing Accuracy: 0.59150390625\n",
      "\n"
     ]
    },
    {
     "data": {
      "image/png": "[encoded data removed]",
      "text/plain": [
       "<matplotlib.figure.Figure at 0x114f1c128>"
      ]
     },
     "metadata": {
      "image/png": {
       "height": 319,
       "width": 355
      }
     },
     "output_type": "display_data"
    }
   ],
   "source": [
    "\"\"\"\n",
    "DON'T MODIFY ANYTHING IN THIS CELL\n",
    "\"\"\"\n",
    "%matplotlib inline\n",
    "%config InlineBackend.figure_format = 'retina'\n",
    "\n",
    "import tensorflow as tf\n",
    "import pickle\n",
    "import helper\n",
    "import random\n",
    "\n",
    "# Set batch size if not already set\n",
    "try:\n",
    "    if batch_size:\n",
    "        pass\n",
    "except NameError:\n",
    "    batch_size = 64\n",
    "\n",
    "save_model_path = './image_classification'\n",
    "n_samples = 4\n",
    "top_n_predictions = 3\n",
    "\n",
    "def test_model():\n",
    "    \"\"\"\n",
    "    Test the saved model against the test dataset\n",
    "    \"\"\"\n",
    "\n",
    "    test_features, test_labels = pickle.load(open('preprocess_training.p', mode='rb'))\n",
    "    loaded_graph = tf.Graph()\n",
    "\n",
    "    with tf.Session(graph=loaded_graph) as sess:\n",
    "        # Load model\n",
    "        loader = tf.train.import_meta_graph(save_model_path + '.meta')\n",
    "        loader.restore(sess, save_model_path)\n",
    "\n",
    "        # Get Tensors from loaded model\n",
    "        loaded_x = loaded_graph.get_tensor_by_name('x:0')\n",
    "        loaded_y = loaded_graph.get_tensor_by_name('y:0')\n",
    "        loaded_keep_prob = loaded_graph.get_tensor_by_name('keep_prob:0')\n",
    "        loaded_logits = loaded_graph.get_tensor_by_name('logits:0')\n",
    "        loaded_acc = loaded_graph.get_tensor_by_name('accuracy:0')\n",
    "        \n",
    "        # Get accuracy in batches for memory limitations\n",
    "        test_batch_acc_total = 0\n",
    "        test_batch_count = 0\n",
    "        \n",
    "        for train_feature_batch, train_label_batch in helper.batch_features_labels(test_features, test_labels, batch_size):\n",
    "            test_batch_acc_total += sess.run(\n",
    "                loaded_acc,\n",
    "                feed_dict={loaded_x: train_feature_batch, loaded_y: train_label_batch, loaded_keep_prob: 1.0})\n",
    "            test_batch_count += 1\n",
    "\n",
    "        print('Testing Accuracy: {}\\n'.format(test_batch_acc_total/test_batch_count))\n",
    "\n",
    "        # Print Random Samples\n",
    "        random_test_features, random_test_labels = tuple(zip(*random.sample(list(zip(test_features, test_labels)), n_samples)))\n",
    "        random_test_predictions = sess.run(\n",
    "            tf.nn.top_k(tf.nn.softmax(loaded_logits), top_n_predictions),\n",
    "            feed_dict={loaded_x: random_test_features, loaded_y: random_test_labels, loaded_keep_prob: 1.0})\n",
    "        helper.display_image_predictions(random_test_features, random_test_labels, random_test_predictions)\n",
    "\n",
    "\n",
    "test_model()"
   ]
  },
  {
   "cell_type": "markdown",
   "metadata": {},
   "source": [
    "## Why 50-80% Accuracy?\n",
    "You might be wondering why you can't get an accuracy any higher. First things first, 50% isn't bad for a simple CNN.  Pure guessing would get you 10% accuracy. That's because there are many more techniques that can be applied to your model and we recemmond that once you are done with this project, you explore!\n",
    "\n",
    "## Submitting This Project\n",
    "When submitting this project, make sure to run all the cells before saving the notebook.  Save the notebook file as \"image_classification.ipynb\" and save it as a HTML file under \"File\" -> \"Download as\".  Include the \"helper.py\" and \"problem_unittests.py\" files in your submission."
   ]
  }
 ],
 "metadata": {
  "kernelspec": {
   "display_name": "Python 3",
   "language": "python",
   "name": "python3"
  },
  "language_info": {
   "codemirror_mode": {
    "name": "ipython",
    "version": 3
   },
   "file_extension": ".py",
   "mimetype": "text/x-python",
   "name": "python",
   "nbconvert_exporter": "python",
   "pygments_lexer": "ipython3",
   "version": "3.6.0"
  }
 },
 "nbformat": 4,
 "nbformat_minor": 0
}
